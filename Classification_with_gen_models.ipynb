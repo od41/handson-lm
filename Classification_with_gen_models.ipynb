{
  "nbformat": 4,
  "nbformat_minor": 0,
  "metadata": {
    "colab": {
      "provenance": [],
      "authorship_tag": "ABX9TyPp2W+arjOOvdTnXNCZa1ok",
      "include_colab_link": true
    },
    "kernelspec": {
      "name": "python3",
      "display_name": "Python 3"
    },
    "language_info": {
      "name": "python"
    }
  },
  "cells": [
    {
      "cell_type": "markdown",
      "metadata": {
        "id": "view-in-github",
        "colab_type": "text"
      },
      "source": [
        "<a href=\"https://colab.research.google.com/github/od41/handson-lm/blob/main/Classification_with_gen_models.ipynb\" target=\"_parent\"><img src=\"https://colab.research.google.com/assets/colab-badge.svg\" alt=\"Open In Colab\"/></a>"
      ]
    },
    {
      "cell_type": "code",
      "execution_count": null,
      "metadata": {
        "id": "1mT8kyHUb1L8"
      },
      "outputs": [],
      "source": [
        "!pip install transformers"
      ]
    },
    {
      "cell_type": "code",
      "source": [
        "from transformers import pipeline\n",
        "\n",
        "# Load our model\n",
        " pipe = pipeline(\n",
        "\"text2text-generation\",\n",
        "model=\"google/flan-t5-small\",\n",
        "device=\"cuda:0\"\n",
        " )"
      ],
      "metadata": {
        "id": "1dHQgqs1cSSn"
      },
      "execution_count": null,
      "outputs": []
    }
  ]
}